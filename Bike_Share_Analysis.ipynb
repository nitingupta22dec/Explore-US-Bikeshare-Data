{
 "cells": [
  {
   "cell_type": "markdown",
   "metadata": {},
   "source": [
    "# Exploring and Analysing 2016 US Bike Share Data\n",
    "\n",
    "## Table of Contents\n",
    "- [Introduction](#intro)\n",
    "- [Posing Questions](#pose_questions)\n",
    "- [Data Collection and Wrangling](#wrangling)\n",
    "  - [Condensing the Trip Data](#condensing)\n",
    "- [Exploratory Data Analysis](#eda)\n",
    "  - [Statistics](#statistics)\n",
    "  - [Visualizations](#visualizations)\n",
    "- [Performing One Last Analysis](#eda_continued)\n",
    "- [Conclusions](#conclusions)\n",
    "\n",
    "<a id='intro'></a>\n",
    "## Introduction\n",
    "\n",
    "\n",
    "Over the past decade, bicycle-sharing systems have been growing in number and popularity in cities across the world. Bicycle-sharing systems allow users to rent bicycles for short trips, typically 30 minutes or less. Thanks to the rise in information technologies, it is easy for a user of the system to access a dock within the system to unlock or return bicycles. These technologies also provide a wealth of data that can be used to explore how these bike-sharing systems are used.\n",
    "\n",
    "In this project, I will perform an exploratory analysis on data provided by [Motivate](https://www.motivateco.com/), a bike-share system provider for many major cities in the United States. I will compare the system usage between three large cities: New York City, Chicago, and Washington, DC. I will also see if there are any differences within each system for those users that are registered, regular users and those users that are short-term, casual users."
   ]
  },
  {
   "cell_type": "markdown",
   "metadata": {},
   "source": [
    "<a id='pose_questions'></a>\n",
    "## Posing Questions (Examples)\n",
    "\n",
    "**Question 1**: How often do people share bikes for travelling?\n",
    "\n",
    "**Question 2**: What is the average ride time for which people share bikes?"
   ]
  },
  {
   "cell_type": "markdown",
   "metadata": {},
   "source": [
    "<a id='wrangling'></a>\n",
    "## Data Collection and Wrangling\n",
    "\n",
    "Now it's time to collect and explore our data. In this project, I will focus on the record of individual trips taken in 2016 from our selected cities: New York City, Chicago, and Washington, DC. Each of these cities has a page where we can freely download the trip data.:\n",
    "\n",
    "- New York City (Citi Bike): [Link](https://www.citibikenyc.com/system-data)\n",
    "- Chicago (Divvy): [Link](https://www.divvybikes.com/system-data)\n",
    "- Washington, DC (Capital Bikeshare): [Link](https://www.capitalbikeshare.com/system-data)\n",
    "\n",
    "In these pages, I noticed that each city has a different way of delivering its data. Chicago updates with new data twice a year, Washington DC is quarterly, and New York City is monthly. The data has already been collected in the `/data/` folder of the project files. While the original data for 2016 is spread among multiple files for each city, the files in the `/data/` folder collect all of the trip data for the year into one file per city. Some data wrangling of inconsistencies in timestamp format within each city has already been performed. In addition, a random 2% sample of the original data is taken to make the exploration more manageable. \n",
    "\n",
    "There is still a lot of data for us to investigate, so it's a good idea to start off by looking at one entry from each of the cities we're going to analyze. "
   ]
  },
  {
   "cell_type": "markdown",
   "metadata": {},
   "source": [
    "Loading some packages and functions that I'll be using in my analysis. "
   ]
  },
  {
   "cell_type": "code",
   "execution_count": 1,
   "metadata": {},
   "outputs": [],
   "source": [
    "## Importing all necessary packages and functions.\n",
    "import csv                       ## Read and write csv files\n",
    "from datetime import datetime    ## Operations to parse dates\n",
    "from pprint import pprint        ## Used to print data structures like dictionaries in\n",
    "                                 ## a nicer way than the base print function."
   ]
  },
  {
   "cell_type": "markdown",
   "metadata": {},
   "source": [
    "Printing out the first trip recorded from each of the cities (the second line of each data file)."
   ]
  },
  {
   "cell_type": "code",
   "execution_count": 2,
   "metadata": {},
   "outputs": [
    {
     "name": "stdout",
     "output_type": "stream",
     "text": [
      "\n",
      "City: NYC\n",
      "OrderedDict([('tripduration', '839'),\n",
      "             ('starttime', '1/1/2016 00:09:55'),\n",
      "             ('stoptime', '1/1/2016 00:23:54'),\n",
      "             ('start station id', '532'),\n",
      "             ('start station name', 'S 5 Pl & S 4 St'),\n",
      "             ('start station latitude', '40.710451'),\n",
      "             ('start station longitude', '-73.960876'),\n",
      "             ('end station id', '401'),\n",
      "             ('end station name', 'Allen St & Rivington St'),\n",
      "             ('end station latitude', '40.72019576'),\n",
      "             ('end station longitude', '-73.98997825'),\n",
      "             ('bikeid', '17109'),\n",
      "             ('usertype', 'Customer'),\n",
      "             ('birth year', ''),\n",
      "             ('gender', '0')])\n",
      "\n",
      "City: Chicago\n",
      "OrderedDict([('trip_id', '9080545'),\n",
      "             ('starttime', '3/31/2016 23:30'),\n",
      "             ('stoptime', '3/31/2016 23:46'),\n",
      "             ('bikeid', '2295'),\n",
      "             ('tripduration', '926'),\n",
      "             ('from_station_id', '156'),\n",
      "             ('from_station_name', 'Clark St & Wellington Ave'),\n",
      "             ('to_station_id', '166'),\n",
      "             ('to_station_name', 'Ashland Ave & Wrightwood Ave'),\n",
      "             ('usertype', 'Subscriber'),\n",
      "             ('gender', 'Male'),\n",
      "             ('birthyear', '1990')])\n",
      "\n",
      "City: Washington\n",
      "OrderedDict([('Duration (ms)', '427387'),\n",
      "             ('Start date', '3/31/2016 22:57'),\n",
      "             ('End date', '3/31/2016 23:04'),\n",
      "             ('Start station number', '31602'),\n",
      "             ('Start station', 'Park Rd & Holmead Pl NW'),\n",
      "             ('End station number', '31207'),\n",
      "             ('End station', 'Georgia Ave and Fairmont St NW'),\n",
      "             ('Bike number', 'W20842'),\n",
      "             ('Member Type', 'Registered')])\n"
     ]
    }
   ],
   "source": [
    "def print_first_point(filename):\n",
    "    \"\"\"\n",
    "    This function prints and returns the first data point (second row) from\n",
    "    a csv file that includes a header row.\n",
    "    \"\"\"\n",
    "    \n",
    "    ## Printing city name for reference.\n",
    "    city = filename.split('-')[0].split('/')[-1]\n",
    "    print('\\nCity: {}'.format(city))\n",
    "    \n",
    "    with open(filename, 'r') as f_in:\n",
    "        ## Using the csv library to set up a DictReader object. \n",
    "        trip_reader = csv.DictReader(f_in)\n",
    "        \n",
    "        ## Using a function on the DictReader object to read the \n",
    "        ## first trip from the data file and storing it in a variable.\n",
    "        first_trip = trip_reader.__next__()\n",
    "        \n",
    "        ## Using the pprint library to print the first trip.\n",
    "        pprint(first_trip)\n",
    "        \n",
    "    ## Output city name and first trip for later testing\n",
    "    return (city, first_trip)\n",
    "\n",
    "## List of files for each city\n",
    "data_files = ['./data/NYC-CitiBike-2016.csv',\n",
    "              './data/Chicago-Divvy-2016.csv',\n",
    "              './data/Washington-CapitalBikeshare-2016.csv']\n",
    "\n",
    "## Print the first trip from each file, storing in dictionary.\n",
    "example_trips = {}\n",
    "for data_file in data_files:\n",
    "    city, first_trip = print_first_point(data_file)\n",
    "    example_trips[city] = first_trip"
   ]
  },
  {
   "cell_type": "markdown",
   "metadata": {},
   "source": [
    "We can see above from the printout of each city name (which has been parsed from the data file name), the first trip has been parsed in the form of a dictionary.\n",
    "\n",
    "\n",
    "<a id='condensing'></a>\n",
    "### Condensing the Trip Data\n",
    "\n",
    "It should also be observable from the above printout that each city provides different information. Even where the information is the same, the column names and formats are sometimes different. To make things as simple as possible when we get to the actual exploration, we should trim and clean the data. Cleaning the data makes sure that the data formats across the cities are consistent, while trimming focuses only on the parts of the data we are most interested in to make the exploration easier to work with.\n",
    "\n",
    "I will generate new data files with five values of interest for each trip: trip duration, starting month, starting hour, day of the week, and user type. Each of these may require additional wrangling depending on the city:\n",
    "\n",
    "- **Duration**: This has been given to us in seconds (New York, Chicago) or milliseconds (Washington). A more natural unit of analysis will be if all the trip durations are given in terms of minutes.\n",
    "- **Month**, **Hour**, **Day of Week**: Ridership volume is likely to change based on the season, time of day, and whether it is a weekday or weekend. The New York City data includes the seconds in their timestamps, while Washington and Chicago do not.\n",
    "- **User Type**: It is possible that users who are subscribed to a bike-share system will have different patterns of use compared to users who only have temporary passes. Washington divides its users into two types: 'Registered' for users with annual, monthly, and other longer-term subscriptions, and 'Casual', for users with 24-hour, 3-day, and other short-term passes. The New York and Chicago data uses 'Subscriber' and 'Customer' for these groups, respectively. For consistency, I will convert the Washington labels to match the other two.\n",
    "\n",
    "\n",
    "Making the functions in the code cells below to address each of the cleaning tasks described above."
   ]
  },
  {
   "cell_type": "code",
   "execution_count": 3,
   "metadata": {},
   "outputs": [],
   "source": [
    "def duration_in_mins(datum, city):\n",
    "    \"\"\"\n",
    "    Takes as input a dictionary containing info about a single trip (datum) and\n",
    "    its origin city (city) and returns the trip duration in units of minutes. \n",
    "    \"\"\"\n",
    "    \n",
    "    ## Converting the duration time in float for all the 3 cities from string.\n",
    "    \n",
    "    ## Converting duration time in minutes from 'milliseconds' for Washington.\n",
    "    if city=='Washington':\n",
    "        duration = (float((datum.get('Duration (ms)'))))/60000\n",
    "    \n",
    "    ## Converting duration time in minutes from 'seconds' for Chicago and NYC.\n",
    "    if city=='Chicago':\n",
    "        duration = (float(datum.get('tripduration')))/60\n",
    "    if city=='NYC':\n",
    "        duration = (float(datum.get('tripduration')))/60\n",
    "        \n",
    "    ## Returning the duration time(in minutes) for the respective city.\n",
    "    return duration"
   ]
  },
  {
   "cell_type": "code",
   "execution_count": 4,
   "metadata": {},
   "outputs": [],
   "source": [
    "def time_of_trip(datum, city):\n",
    "    \"\"\"\n",
    "    Takes as input a dictionary containing info about a single trip (datum) and\n",
    "    its origin city (city) and returns the month, hour, and day of the week in\n",
    "    which the trip was made.\n",
    "    \"\"\"\n",
    "    \n",
    "    ## Getting a datetime object for the respective city and extracting month, hour and day_of_week from it. \n",
    "    ## NYC includes seconds, while Washington and Chicago do not.\n",
    "    if city=='NYC':\n",
    "        d=datetime.strptime(datum.get('starttime'),'%m/%d/%Y %H:%M:%S')\n",
    "        month=d.month\n",
    "        hour=d.hour\n",
    "        day_of_week=d.strftime('%A')\n",
    "    elif city=='Washington':\n",
    "        d=datetime.strptime(datum.get('Start date'),'%m/%d/%Y %H:%M')\n",
    "        month=d.month\n",
    "        hour=d.hour\n",
    "        day_of_week=d.strftime('%A')\n",
    "    else:\n",
    "        d=datetime.strptime(datum.get('starttime'),'%m/%d/%Y %H:%M')\n",
    "        month=d.month\n",
    "        hour=d.hour\n",
    "        day_of_week=d.strftime('%A')\n",
    "        \n",
    "    ## Returning month,hour and day_of_week as a tuple for the respective city.    \n",
    "    return (month, hour, day_of_week)"
   ]
  },
  {
   "cell_type": "code",
   "execution_count": 5,
   "metadata": {},
   "outputs": [],
   "source": [
    "def type_of_user(datum, city):\n",
    "    \"\"\"\n",
    "    Takes as input a dictionary containing info about a single trip (datum) and\n",
    "    its origin city (city) and returns the type of system user that made the\n",
    "    trip.\n",
    "    \"\"\"\n",
    "    \n",
    "    ## Washington has different category names compared to Chicago and NYC. \n",
    "    \n",
    "    ## For washington, if Member Type is Casual, I will assign the user_type to be Customer \n",
    "    ## and if Member Type is Registered, I will assign the user_type to be Subscriber.\n",
    "    if city=='Washington':\n",
    "        if datum.get('Member Type')=='Casual':\n",
    "            user_type=\"Customer\"\n",
    "        else:\n",
    "            user_type=\"Subscriber\"\n",
    "    ## For NYC and Chicago, I will simply return the usertype of the user, whichever is already mentioned in the data.\n",
    "    else:\n",
    "        user_type=datum.get('usertype')\n",
    "        \n",
    "    ## Returning the type of user for the respective city.    \n",
    "    return user_type"
   ]
  },
  {
   "cell_type": "markdown",
   "metadata": {},
   "source": [
    "Now, Using the helper functions I wrote above to create a condensed data file for each city consisting only of the data fields indicated above."
   ]
  },
  {
   "cell_type": "code",
   "execution_count": 6,
   "metadata": {},
   "outputs": [],
   "source": [
    "def condense_data(in_file, out_file, city):\n",
    "    \"\"\"\n",
    "    This function takes full data from the specified input file\n",
    "    and writes the condensed data to a specified output file. The city\n",
    "    argument determines how the input file will be parsed.\n",
    "    \"\"\"\n",
    "    \n",
    "    with open(out_file, 'w') as f_out, open(in_file, 'r') as f_in:\n",
    "        ## Setting up csv DictWriter object.\n",
    "        out_colnames = ['duration', 'month', 'hour', 'day_of_week', 'user_type']        \n",
    "        trip_writer = csv.DictWriter(f_out, fieldnames = out_colnames)\n",
    "        trip_writer.writeheader()\n",
    "        \n",
    "        ## Setting up csv DictReader object\n",
    "        trip_reader = csv.DictReader(f_in)\n",
    "\n",
    "        \n",
    "        ## Creating an empty list to append all the individual rows in this list and wite the complete list to the output file.\n",
    "        list_of_rows=[]\n",
    "        \n",
    "        ## Collecting data from and process each row\n",
    "        for row in trip_reader:\n",
    "            ## Recieving the tuple(returned from the time_of_trip function) in a variable for ease of access using indices.\n",
    "            time_of_trip_tuple=time_of_trip(row,city)\n",
    "            \n",
    "            ## Setting up a dictionary to hold the values for the cleaned and trimmed data point\n",
    "            new_point = {'duration':duration_in_mins(row,city),\n",
    "                            'month':time_of_trip_tuple[0],\n",
    "                            'hour':time_of_trip_tuple[1],\n",
    "                            'day_of_week':time_of_trip_tuple[2],\n",
    "                            'user_type':type_of_user(row,city)}\n",
    "\n",
    "            ## Using the helper functions to get the cleaned data from\n",
    "            ## the original data dictionaries. Writing the processed information to the output file.\n",
    "            \n",
    "            ## Appending each row to the newly created list.\n",
    "            list_of_rows.append(new_point)\n",
    "        \n",
    "        ## Writing the list to the Dictwriter object.\n",
    "        trip_writer.writerows(list_of_rows)   "
   ]
  },
  {
   "cell_type": "code",
   "execution_count": 7,
   "metadata": {},
   "outputs": [
    {
     "name": "stdout",
     "output_type": "stream",
     "text": [
      "\n",
      "City: Washington\n",
      "OrderedDict([('duration', '7.123116666666666'),\n",
      "             ('month', '3'),\n",
      "             ('hour', '22'),\n",
      "             ('day_of_week', 'Thursday'),\n",
      "             ('user_type', 'Subscriber')])\n",
      "\n",
      "City: Chicago\n",
      "OrderedDict([('duration', '15.433333333333334'),\n",
      "             ('month', '3'),\n",
      "             ('hour', '23'),\n",
      "             ('day_of_week', 'Thursday'),\n",
      "             ('user_type', 'Subscriber')])\n",
      "\n",
      "City: NYC\n",
      "OrderedDict([('duration', '13.983333333333333'),\n",
      "             ('month', '1'),\n",
      "             ('hour', '0'),\n",
      "             ('day_of_week', 'Friday'),\n",
      "             ('user_type', 'Customer')])\n"
     ]
    }
   ],
   "source": [
    "## Cell to check my work.\n",
    "city_info = {'Washington': {'in_file': './data/Washington-CapitalBikeshare-2016.csv',\n",
    "                            'out_file': './data/Washington-2016-Summary.csv'},\n",
    "             'Chicago': {'in_file': './data/Chicago-Divvy-2016.csv',\n",
    "                         'out_file': './data/Chicago-2016-Summary.csv'},\n",
    "             'NYC': {'in_file': './data/NYC-CitiBike-2016.csv',\n",
    "                     'out_file': './data/NYC-2016-Summary.csv'}}\n",
    "\n",
    "for city, filenames in city_info.items():\n",
    "    condense_data(filenames['in_file'], filenames['out_file'], city)\n",
    "    print_first_point(filenames['out_file'])"
   ]
  },
  {
   "cell_type": "markdown",
   "metadata": {},
   "source": [
    "<a id='eda'></a>\n",
    "## Exploratory Data Analysis\n",
    "\n",
    "Now that I have the data collected and wrangled, I'm ready to start exploring the data. In this section I will write some code to compute descriptive statistics from the data. I will also use the `matplotlib` library to create some basic histograms of the data.\n",
    "\n",
    "<a id='statistics'></a>\n",
    "### Statistics\n",
    "\n",
    "First, let's compute some basic counts.\n",
    "\n",
    "**Question 1**: Which city has the highest number of trips? Which city has the highest proportion of trips made by subscribers? Which city has the highest proportion of trips made by short-term customers?"
   ]
  },
  {
   "cell_type": "markdown",
   "metadata": {},
   "source": [
    "Writing a function that uses the csv module to iterate through a provided data file, returning the number of trips made by subscribers and customers."
   ]
  },
  {
   "cell_type": "code",
   "execution_count": 8,
   "metadata": {},
   "outputs": [],
   "source": [
    "def number_of_trips(filename):\n",
    "    \"\"\"\n",
    "    This function reads in a file with trip data and reports the number of\n",
    "    trips made by subscribers, customers, and total overall.\n",
    "    \"\"\"\n",
    "    with open(filename, 'r') as f_in:\n",
    "        \n",
    "        ## Printing city name for reference\n",
    "        city = filename.split('-')[0].split('/')[-1]\n",
    "        print('\\nCity: {}'.format(city))\n",
    "        \n",
    "        ## Setting up csv reader object\n",
    "        reader = csv.DictReader(f_in)\n",
    "        \n",
    "        ## Initialize count variables\n",
    "        n_subscribers = 0\n",
    "        n_customers = 0\n",
    "        \n",
    "        ## Tallying up ride types\n",
    "        for row in reader:\n",
    "            if row['user_type'] == 'Subscriber':\n",
    "                n_subscribers += 1\n",
    "            else:\n",
    "                n_customers += 1\n",
    "        \n",
    "        ## Computing total number of rides\n",
    "        n_total = n_subscribers + n_customers\n",
    "        \n",
    "        ## Computing proportion of trips made by subscribers.\n",
    "        prop_subs = n_subscribers/n_total\n",
    "        \n",
    "        ## Computing proportion of trips made by short-term customers.\n",
    "        prop_cust = n_customers/n_total\n",
    "        \n",
    "        ## Returning tallies as a tuple\n",
    "        return(n_subscribers, n_customers, n_total, prop_subs, prop_cust)"
   ]
  },
  {
   "cell_type": "code",
   "execution_count": 9,
   "metadata": {},
   "outputs": [
    {
     "name": "stdout",
     "output_type": "stream",
     "text": [
      "\n",
      "City: Washington\n",
      "(51753, 14573, 66326, 0.7802822422579381, 0.21971775774206193)\n",
      "\n",
      "City: Chicago\n",
      "(54982, 17149, 72131, 0.7622520136973008, 0.23774798630269925)\n",
      "\n",
      "City: NYC\n",
      "(245896, 30902, 276798, 0.8883590199351151, 0.11164098006488486)\n"
     ]
    }
   ],
   "source": [
    "city_info = {'Washington': './data/Washington-2016-Summary.csv',\n",
    "             'Chicago': './data/Chicago-2016-Summary.csv',\n",
    "             'NYC': './data/NYC-2016-Summary.csv'}\n",
    "\n",
    "for city in city_info:\n",
    "    print(number_of_trips(city_info[city]))"
   ]
  },
  {
   "cell_type": "markdown",
   "metadata": {},
   "source": [
    "**Answer 1**: \n",
    "\n",
    "NYC has the highest number of trips.\n",
    "\n",
    "NYC has the highest proportion of trips made by subscribers.\n",
    "\n",
    "Chicago has the highest proportion of trips made by short-term customers."
   ]
  },
  {
   "cell_type": "markdown",
   "metadata": {},
   "source": [
    "**Question 2**: Bike-share systems are designed for riders to take short trips. Most of the time, users are allowed to take trips of 30 minutes or less with no additional charges, with overage charges made for trips of longer than that duration. What is the average trip length for each city? What proportion of rides made in each city are longer than 30 minutes?"
   ]
  },
  {
   "cell_type": "code",
   "execution_count": 10,
   "metadata": {
    "scrolled": true
   },
   "outputs": [],
   "source": [
    "def average_trip_length_and_proportion(filename):\n",
    "    \n",
    "    \"\"\"\n",
    "    This function reads in a file with trip data and reports the average trip length for each city \n",
    "    and proportion of rides made in each city which are longer than 30 minutes.\n",
    "    \"\"\"\n",
    "    \n",
    "    with open(filename,'r') as f_in:\n",
    "        \n",
    "        ## Printing city name for reference\n",
    "        city = filename.split('-')[0].split('/')[-1]\n",
    "        print('\\nCity: {}'.format(city))\n",
    "        \n",
    "        ## Setting up csv reader object\n",
    "        reader=csv.DictReader(f_in)\n",
    "        \n",
    "        ## Initialize sum variable\n",
    "        total_sum_of_trip_lengths=0\n",
    "        \n",
    "        ## Initialize count variables\n",
    "        total_number_of_trips=0\n",
    "        number_trips_longer_than_30=0\n",
    "        \n",
    "        ## Calculating sum of trip lengths and the number of trips made.\n",
    "        for row in reader:\n",
    "            total_sum_of_trip_lengths+=float(row['duration'])\n",
    "            total_number_of_trips+=1\n",
    "            if float(row['duration'])>30.0:\n",
    "                number_trips_longer_than_30+=1\n",
    "                \n",
    "        ## Calculating the average trip length.        \n",
    "        average=total_sum_of_trip_lengths/total_number_of_trips\n",
    "       \n",
    "        ## Calculating proportion of rides longer than 30 minutes\n",
    "        proportion=number_trips_longer_than_30/total_number_of_trips\n",
    "        \n",
    "        ## Returning the tuple of average and proportion\n",
    "        return (average,proportion)\n"
   ]
  },
  {
   "cell_type": "code",
   "execution_count": 11,
   "metadata": {},
   "outputs": [
    {
     "name": "stdout",
     "output_type": "stream",
     "text": [
      "\n",
      "City: Washington\n",
      "(18.93287355913721, 0.10838886711093688)\n",
      "\n",
      "City: Chicago\n",
      "(16.563629368787335, 0.08332062497400562)\n",
      "\n",
      "City: NYC\n",
      "(15.81259299802294, 0.07302437156337835)\n"
     ]
    }
   ],
   "source": [
    "city_info = {'Washington': './data/Washington-2016-Summary.csv',\n",
    "             'Chicago': './data/Chicago-2016-Summary.csv',\n",
    "             'NYC': './data/NYC-2016-Summary.csv'}\n",
    "\n",
    "for city in city_info:\n",
    "    print(average_trip_length_and_proportion(city_info[city]))"
   ]
  },
  {
   "cell_type": "markdown",
   "metadata": {},
   "source": [
    "**Answer 2**: \n",
    "\n",
    "Average trip length for Washington, Chicago and NYC: 18.9 minutes, 16.5 minutes and 15.8 minutes respectively.\n",
    "\n",
    "Proportion of rides made which are longer than 30 minutes in Washington, Chicago and NYC: 10.8%, 8.3% and 7.3%."
   ]
  },
  {
   "cell_type": "markdown",
   "metadata": {},
   "source": [
    "**Question 3**: Digging deeper into the question of trip duration based on ridership. Choosing one city. Within that city, which type of user takes longer rides on average: Subscribers or Customers?"
   ]
  },
  {
   "cell_type": "code",
   "execution_count": 12,
   "metadata": {},
   "outputs": [],
   "source": [
    "def user_takes_longer_rides(filename):\n",
    "    \n",
    "    \"\"\"\n",
    "    This function reads in a file with trip data and reports the type of user that takes longer rides on average.\n",
    "    \"\"\"\n",
    "    \n",
    "    with open(filename,'r') as f_in:\n",
    "        \n",
    "        ## Printing city name for reference\n",
    "        city = filename.split('-')[0].split('/')[-1]\n",
    "        print('\\nCity: {}'.format(city))\n",
    "        \n",
    "        ## Setting up csv reader object\n",
    "        reader=csv.DictReader(f_in)\n",
    "        \n",
    "        ## Initialize sum variables\n",
    "        sum_of_duration_of_subscribers=0\n",
    "        sum_of_duration_of_customers=0\n",
    "        \n",
    "        ## Initialize count variables\n",
    "        count_of_subscribers=0\n",
    "        count_of_customers=0\n",
    "        \n",
    "        ## Calculating sum of trip lengths for Subscribers and Customers \n",
    "        ## and the number of trips made by each of them.\n",
    "        for row in reader:\n",
    "            if row['user_type']=='Subscriber':\n",
    "                sum_of_duration_of_subscribers+=float(row['duration'])\n",
    "                count_of_subscribers+=1\n",
    "            if row['user_type']=='Customer':    \n",
    "                sum_of_duration_of_customers+=float(row['duration'])\n",
    "                count_of_customers+=1\n",
    "                \n",
    "        ## Calculating average ride length of Subscribers        \n",
    "        mean_trip_length_subs = sum_of_duration_of_subscribers/count_of_subscribers\n",
    "        \n",
    "        ## Calculating average ride length of Subscribers\n",
    "        mean_trip_length_cust = sum_of_duration_of_customers/count_of_customers\n",
    "    \n",
    "        \n",
    "        ## Returning the user_name which have the higher average trip length.\n",
    "        if mean_trip_length_subs>mean_trip_length_cust:\n",
    "            return 'Subscribers'\n",
    "        else:\n",
    "            return 'Customers'"
   ]
  },
  {
   "cell_type": "code",
   "execution_count": 13,
   "metadata": {},
   "outputs": [
    {
     "name": "stdout",
     "output_type": "stream",
     "text": [
      "\n",
      "City: Washington\n",
      "Customers\n"
     ]
    }
   ],
   "source": [
    "city_info = {'Washington': './data/Washington-2016-Summary.csv',\n",
    "             'Chicago': './data/Chicago-2016-Summary.csv',\n",
    "             'NYC': './data/NYC-2016-Summary.csv'}\n",
    "\n",
    "## Printing the result for a single city: Washington\n",
    "print(user_takes_longer_rides(city_info['Washington']))"
   ]
  },
  {
   "cell_type": "markdown",
   "metadata": {},
   "source": [
    "**Answer 3**: In Washington, 'Customers' take longer rides on average."
   ]
  },
  {
   "cell_type": "markdown",
   "metadata": {},
   "source": [
    "<a id='visualizations'></a>\n",
    "### Visualizations\n",
    "\n",
    "The last set of values that we computed have pulled up an interesting result. While the mean trip time for Subscribers is well under 30 minutes, the mean trip time for Customers is actually _above_ 30 minutes! It will be interesting for us to look at how the trip times are distributed. In order to do this, I'll use `matplotlib` library."
   ]
  },
  {
   "cell_type": "code",
   "execution_count": 14,
   "metadata": {},
   "outputs": [],
   "source": [
    "## Loading library\n",
    "import matplotlib.pyplot as plt\n",
    "\n",
    "## To allow plots to be displayed inline with the notebook.\n",
    "%matplotlib inline "
   ]
  },
  {
   "cell_type": "markdown",
   "metadata": {},
   "source": [
    "I will now create a histogram of the trip times for the city I selected in question 3. I won't separate the Subscribers and Customers for now: just collect all of the trip times and plot them."
   ]
  },
  {
   "cell_type": "code",
   "execution_count": 15,
   "metadata": {},
   "outputs": [],
   "source": [
    "def plot_hist_of_trip_times_of_Washington(filename):\n",
    "    \"\"\"\n",
    "    This function reads in a file with trip data and reports the list of trip times of a city.\n",
    "    \"\"\"\n",
    "    with open(filename,'r') as f_in:\n",
    "        \n",
    "        ## Printing city name for reference\n",
    "        city = filename.split('-')[0].split('/')[-1]\n",
    "        print('\\nCity: {}'.format(city))\n",
    "        \n",
    "        ## Setting up csv reader object\n",
    "        reader=csv.DictReader(f_in)\n",
    "        \n",
    "        ## Taking an empty list to store all the trip times.\n",
    "        list_of_trip_times=[]\n",
    "        \n",
    "        ## Appending all the trip times to the list in float type.\n",
    "        for row in reader:\n",
    "            list_of_trip_times.append(float(row['duration']))\n",
    "            \n",
    "        ## Returning the list of trip times of the respective city.    \n",
    "        return list_of_trip_times    \n"
   ]
  },
  {
   "cell_type": "code",
   "execution_count": 16,
   "metadata": {},
   "outputs": [
    {
     "name": "stdout",
     "output_type": "stream",
     "text": [
      "\n",
      "City: Washington\n"
     ]
    },
    {
     "data": {
      "image/png": "[encoded data removed]",
      "text/plain": [
       "<matplotlib.figure.Figure at 0x5d0d3a9940>"
      ]
     },
     "metadata": {},
     "output_type": "display_data"
    }
   ],
   "source": [
    "city_info = {'Washington': './data/Washington-2016-Summary.csv',\n",
    "             'Chicago': './data/Chicago-2016-Summary.csv',\n",
    "             'NYC': './data/NYC-2016-Summary.csv'}\n",
    "\n",
    "## Passing only 'Washington' for plotting the histogram.\n",
    "## Storing the returned list in a variable and plotting the histogram using that variable.\n",
    "data=plot_hist_of_trip_times_of_Washington(city_info['Washington'])\n",
    "plt.hist(data)\n",
    "plt.title('Distribution of Trip Durations')\n",
    "plt.xlabel('Duration (m)')\n",
    "plt.show()"
   ]
  },
  {
   "cell_type": "markdown",
   "metadata": {},
   "source": [
    "The plot consists of one extremely tall bar on the left, maybe a very short second bar, and a whole lot of empty space in the center and right. This suggests that there are some highly infrequent outliers in the data. Instead of reprocessing the data, I will use additional parameters with the `.hist()` function to limit the range of data that is plotted.\n",
    "\n",
    "**Question 4**: Using the parameters of the `.hist()` function to plot the distribution of trip times for the Subscribers in my selected city. Doing the same thing for only the Customers. Adding limits to the plots so that only trips of duration less than 75 minutes are plotted. As a bonus, setting the plots up so that bars are in five-minute wide intervals. For each group, where is the peak of each distribution? How would you describe the shape of each distribution?\n",
    "\n"
   ]
  },
  {
   "cell_type": "code",
   "execution_count": 17,
   "metadata": {},
   "outputs": [],
   "source": [
    "def distribution_of_trip_times(filename):\n",
    "    \"\"\"\n",
    "    This function reads in a file with trip data and returns the list of trip times for Subscribers and Customers.\n",
    "    \"\"\"\n",
    "    with open(filename,'r') as f_in:\n",
    "        \n",
    "        ## Printing city name for reference\n",
    "        city = filename.split('-')[0].split('/')[-1]\n",
    "        print('\\nCity: {}'.format(city))\n",
    "        \n",
    "        ## Setting up csv reader object\n",
    "        reader=csv.DictReader(f_in)\n",
    "        \n",
    "        ## Creating empty lists to store trip times of Subscribers and Customers\n",
    "        list_of_trip_times_Subs=[]\n",
    "        list_of_trip_times_Cust=[]\n",
    "        \n",
    "        ## Appending all the trip times in the respective lists of Subscribers and Customers\n",
    "        for row in reader:\n",
    "            if row['user_type']=='Subscriber':\n",
    "                list_of_trip_times_Subs.append(float(row['duration']))\n",
    "            else:\n",
    "                list_of_trip_times_Cust.append(float(row['duration']))\n",
    "        \n",
    "        ## Returning a tuple consisting of list of trip times of Subscribers and Customers.\n",
    "        return (list_of_trip_times_Subs,list_of_trip_times_Cust)"
   ]
  },
  {
   "cell_type": "code",
   "execution_count": 18,
   "metadata": {},
   "outputs": [
    {
     "name": "stdout",
     "output_type": "stream",
     "text": [
      "\n",
      "City: Washington\n"
     ]
    },
    {
     "data": {
      "image/png": "[encoded data removed]",
      "text/plain": [
       "<matplotlib.figure.Figure at 0x5d0d3a9cc0>"
      ]
     },
     "metadata": {},
     "output_type": "display_data"
    },
    {
     "data": {
      "image/png": "[encoded data removed]",
      "text/plain": [
       "<matplotlib.figure.Figure at 0x5d0d5390b8>"
      ]
     },
     "metadata": {},
     "output_type": "display_data"
    }
   ],
   "source": [
    "city_info = {'Washington': './data/Washington-2016-Summary.csv',\n",
    "             'Chicago': './data/Chicago-2016-Summary.csv',\n",
    "             'NYC': './data/NYC-2016-Summary.csv'}\n",
    "\n",
    "## Passing only 'Washington' for plotting the histogram.\n",
    "## Storing the returned list in a variable and plotting the histogram using that variable.\n",
    "data=distribution_of_trip_times(city_info['Washington'])\n",
    "\n",
    "plt.hist(data[0],bins=[0,5, 10, 15, 20,25,30,35,40,45,50,55,60,65,70,75],range=(0,75))\n",
    "plt.title('Distribution of Trip Durations of Subscribers')\n",
    "plt.xlabel('Duration (m)')\n",
    "plt.show()\n",
    "\n",
    "plt.hist(data[1],bins=[0,5, 10, 15, 20,25,30,35,40,45,50,55,60,65,70,75],range=(0,75))\n",
    "plt.title('Distribution of Trip Durations of Customers')\n",
    "plt.xlabel('Duration (m)')\n",
    "plt.show()"
   ]
  },
  {
   "cell_type": "markdown",
   "metadata": {},
   "source": [
    "**Answer 4**: For the city of Washington: peak of Subscriber's distribution is between 5-10 minutes and that of Customer's is between 15-20 minutes. The shape of each distribution is first increasing tremendously and then later decreasing gradually."
   ]
  },
  {
   "cell_type": "markdown",
   "metadata": {
    "collapsed": true
   },
   "source": [
    "<a id='eda_continued'></a>\n",
    "## Performing One Last Analysis\n",
    "\n",
    "**Question 5:** Taking a particular city, analyse the day_of_week in which most users share bike. Compare your analysis between Subscribers and Customers by making different visualizations for them."
   ]
  },
  {
   "cell_type": "code",
   "execution_count": 19,
   "metadata": {},
   "outputs": [],
   "source": [
    "def share_rides_day_analysis(filename):\n",
    "    \"\"\"\n",
    "    This function reads in a file with trip data \n",
    "    and returns the list of amount of bike share rides taken day-wise for Subscribers and Customers.\n",
    "    \"\"\"\n",
    "    with open(filename,'r') as f_in:\n",
    "        \n",
    "        ## Printing city name for reference\n",
    "        city = filename.split('-')[0].split('/')[-1]\n",
    "        print('\\nCity: {}'.format(city))\n",
    "        \n",
    "        ## Setting up csv reader object\n",
    "        reader=csv.DictReader(f_in)\n",
    "        \n",
    "        ## Creating empty lists to store day_of_week in which the trip was taken for Subscribers and Customers\n",
    "        list_of_days_Subs=[]\n",
    "        list_of_days_Cust=[]\n",
    "        \n",
    "        ## Appending all the day_of_week in the respective lists of Subscribers and Customers\n",
    "        for row in reader:\n",
    "            if row['user_type']=='Subscriber':\n",
    "                list_of_days_Subs.append(row['day_of_week'])\n",
    "            else:\n",
    "                list_of_days_Cust.append(row['day_of_week'])\n",
    "        \n",
    "        ## Storing the count(number of trips taken on a particular day_of_week) in a list for Subscribers. \n",
    "        arr_sub=[0,0,0,0,0,0,0]\n",
    "        for item_sub in list_of_days_Subs:\n",
    "            if item_sub=='Sunday':\n",
    "                arr_sub[0]+=1\n",
    "            elif item_sub=='Monday':\n",
    "                arr_sub[1]+=1\n",
    "            elif item_sub=='Tuesday':\n",
    "                arr_sub[2]+=1\n",
    "            elif item_sub=='Wednesday':\n",
    "                arr_sub[3]+=1\n",
    "            elif item_sub=='Thursday':\n",
    "                arr_sub[4]+=1\n",
    "            elif item_sub=='Friday':\n",
    "                arr_sub[5]+=1\n",
    "            else:\n",
    "                arr_sub[6]+=1\n",
    "              \n",
    "        ## Storing the count(number of trips taken on a particular day_of_week) in a list for Customers.     \n",
    "        arr_cust=[0,0,0,0,0,0,0]\n",
    "        for item_cust in list_of_days_Cust:\n",
    "            if item_cust=='Sunday':\n",
    "                arr_cust[0]+=1\n",
    "            elif item_cust=='Monday':\n",
    "                arr_cust[1]+=1\n",
    "            elif item_cust=='Tuesday':\n",
    "                arr_cust[2]+=1\n",
    "            elif item_cust=='Wednesday':\n",
    "                arr_cust[3]+=1\n",
    "            elif item_cust=='Thursday':\n",
    "                arr_cust[4]+=1\n",
    "            elif item_cust=='Friday':\n",
    "                arr_cust[5]+=1\n",
    "            else:\n",
    "                arr_cust[6]+=1\n",
    "        \n",
    "        ## Returning a tuple consisting of list of counts of number of trips taken on a particular day_of_week for Subscribers and Customers.\n",
    "        return (arr_sub,arr_cust)"
   ]
  },
  {
   "cell_type": "code",
   "execution_count": 20,
   "metadata": {},
   "outputs": [
    {
     "name": "stdout",
     "output_type": "stream",
     "text": [
      "\n",
      "City: Washington\n"
     ]
    },
    {
     "data": {
      "image/png": "[encoded data removed]",
      "text/plain": [
       "<matplotlib.figure.Figure at 0x5d09ec85f8>"
      ]
     },
     "metadata": {},
     "output_type": "display_data"
    },
    {
     "data": {
      "image/png": "[encoded data removed]",
      "text/plain": [
       "<matplotlib.figure.Figure at 0x5d0d5ea7b8>"
      ]
     },
     "metadata": {},
     "output_type": "display_data"
    }
   ],
   "source": [
    "city_info = {'Washington': './data/Washington-2016-Summary.csv',\n",
    "             'Chicago': './data/Chicago-2016-Summary.csv',\n",
    "             'NYC': './data/NYC-2016-Summary.csv'}\n",
    "\n",
    "# Passing only 'Washington' for plotting the pie chart.\n",
    "# Storing the returned list in a variable and plotting the pie chart using that variable.\n",
    "data=share_rides_day_analysis(city_info['Washington'])\n",
    "\n",
    "labels='Sunday','Monday','Tuesday','Wednesday','Thursday','Friday','Saturday'\n",
    "plt.pie(data[0], explode=None, labels=labels,autopct='%1.1f%%', startangle=90)\n",
    "plt.axis('equal')\n",
    "plt.title('Distribution of Trip Durations of Subscribers')\n",
    "plt.show()\n",
    "\n",
    "plt.pie(data[1], explode=None, labels=labels,autopct='%1.1f%%', startangle=90)\n",
    "plt.axis('equal')\n",
    "plt.title('Distribution of Trip Durations of Customers')\n",
    "plt.show()"
   ]
  },
  {
   "cell_type": "markdown",
   "metadata": {},
   "source": [
    "**Answer 5**: For the city of Washington: Subscribers take most rides on 'Wednesdays' while Customers take most rides on 'Saturdays'."
   ]
  },
  {
   "cell_type": "markdown",
   "metadata": {},
   "source": [
    "<a id='conclusions'></a>\n",
    "## Conclusions\n",
    "\n",
    "I've analysed the US Bike Share Data set and answered some of the possible questions that might be beneficial for the people riding or renting the bikes and even for the vendors. I've performed an initial exploration into the data available. I have compared the relative volume of trips made between three U.S. cities and the ratio of trips made by Subscribers and Customers. For one of these cities, I have investigated differences between Subscribers and Customers in terms of how long a typical trip lasts. "
   ]
  },
  {
   "cell_type": "code",
   "execution_count": null,
   "metadata": {},
   "outputs": [],
   "source": []
  }
 ],
 "metadata": {
  "anaconda-cloud": {},
  "kernelspec": {
   "display_name": "Python 3",
   "language": "python",
   "name": "python3"
  },
  "language_info": {
   "codemirror_mode": {
    "name": "ipython",
    "version": 3
   },
   "file_extension": ".py",
   "mimetype": "text/x-python",
   "name": "python",
   "nbconvert_exporter": "python",
   "pygments_lexer": "ipython3",
   "version": "3.6.4"
  }
 },
 "nbformat": 4,
 "nbformat_minor": 1
}
